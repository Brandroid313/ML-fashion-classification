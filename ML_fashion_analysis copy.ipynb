{
 "cells": [
  {
   "cell_type": "markdown",
   "metadata": {},
   "source": [
    "  # Introduction\n",
    " \n",
    " ## Multi class classification a.k.a The clothing condundrum\n",
    " \n",
    " \n",
    "A problem that often comes up in machine leanring is one of classificaiton. Given a set of input, can we group it into a predefined set such as ' puppies ' or ' ice cream ' etc.? \n",
    "## More classes, more problems\n",
    "When given a larger variety of input and output, how well could a machine learning algortihm perform? Especailly with abstract shapes.\n",
    "Here in this notebook I will attempt to train a model that can distugniosh not between just two similar objects, but multiple objects each with variations of their size and shape, namely clothes! \n",
    "## Why clothes?\n",
    "Well for one thing there is a readily availble dataset for them, but also it does present a diffcult challenge for a computer. Think of a t-shirt. Some have patters, while others do not. There is also the types with v-necks and regular necks, but both are still shirts. Would a trained model be able to navigate through the many subtle variations of clothing and correctly figure out which are the most important features?"
   ]
  },
  {
   "cell_type": "markdown",
   "metadata": {},
   "source": [
    "# Defining the Problem\n",
    "\n",
    "Ever not understand what type of clothing you are looking at? I know I do. Well today we are going to attempt to solve that to blend in as normal humans! What I will attempt to do is to create a model that, looking at the fashion mnsit data set, will be able to classify pictures of clothes into 10 catagories ( 'T-shirt/top', 'Trouser','Pullover','Dress','Coat','Sandal','Shirt', 'Sneaker','Bag', and'Ankle boot' ) and accurately predict what picutre it is likely to be based on that photo.\n",
    "\n",
    "## Input data\n",
    "\n",
    "The input data will be the imaged from the fashion mnist dataset. So that means we will be working with an array of pixels whose value is between 0 and 255. "
   ]
  },
  {
   "cell_type": "markdown",
   "metadata": {},
   "source": [
    "# Installing our packages and getting our dataset\n",
    "Below is where we get the packages we will be working with, namely keras, the fashion_mnist dataset and models. We will also be getting numpy and matplotlib to help us look a bit closer at some of the data as well as using the sklearn train_test_split to seperate our data into tesstin and training sets"
   ]
  },
  {
   "cell_type": "code",
   "execution_count": 1,
   "metadata": {},
   "outputs": [
    {
     "name": "stderr",
     "output_type": "stream",
     "text": [
      "2022-03-11 10:19:39.643404: W tensorflow/stream_executor/platform/default/dso_loader.cc:64] Could not load dynamic library 'libcudart.so.11.0'; dlerror: libcudart.so.11.0: cannot open shared object file: No such file or directory\n",
      "2022-03-11 10:19:39.643420: I tensorflow/stream_executor/cuda/cudart_stub.cc:29] Ignore above cudart dlerror if you do not have a GPU set up on your machine.\n"
     ]
    }
   ],
   "source": [
    "import keras\n",
    "from keras.utils import np_utils\n",
    "from keras.datasets import fashion_mnist\n",
    "from keras.models import Sequential\n",
    "from keras.layers import Conv2D, MaxPooling2D, Flatten, Dense, Dropout\n",
    "from keras.callbacks import ModelCheckpoint   \n",
    "\n",
    "import numpy as np\n",
    "import matplotlib.pyplot as plt\n",
    "from sklearn.model_selection import train_test_split\n",
    "\n",
    "import warnings\n",
    "warnings.filterwarnings('ignore')\n",
    "%matplotlib inline"
   ]
  },
  {
   "cell_type": "markdown",
   "metadata": {},
   "source": [
    "# Methodology \n",
    "\n",
    "Below I have outlined the chosen evaluation for the models performance as well as my reasoning behind it. To help clairfy further, there is also a section describing the various functions that were made in order to preapre the data, train the function and measure our success ( or lack there of ) of our training."
   ]
  },
  {
   "cell_type": "markdown",
   "metadata": {},
   "source": [
    "# Deciding our measure of success and evaluation protocol\n",
    "So now that we have our dataset, and our question, we must figure out how we know we have done a good job.\n",
    "## Accuracy, because a shirt should be a shirt\n",
    "I have chosen accuracy to be our model of testing how well we have done ( in the 'metrics' argument of compile ) as what we really want to know is whether or not we have correctly identfied the clothes we are looking through. It is pretty simple as all we need to know is the number of correct predictions versus the number of incorrect predicitons."
   ]
  },
  {
   "cell_type": "markdown",
   "metadata": {},
   "source": [
    "# Our helper functions\n",
    "To help keep the code clean and modular, below are functions that have been made to help us along. Here I will explain what they do.\n",
    "\n",
    "## get_accuracy\n",
    "Here we simple get the accuracy of the model and print it out as a percentage.\n",
    "\n",
    "## define_architecture\n",
    "Here is where we build the model. As you can see the model is made of three convolutional layers a two dense layers and we make use of maxpooling and dropout to ( hopefully ) up the accuracey and lower the chances of overfitting.\n",
    "\n",
    "## train\n",
    "Where the magic happens. We take our freshly made model and train it, passing in our metric we have deicded for success, which in this case is accuracey. This function will also print our the accuracy of the model before training we we can compare it with the model performance after.\n",
    "\n",
    "## viz_sample\n",
    "Take a quick look at the data sample.\n"
   ]
  },
  {
   "cell_type": "code",
   "execution_count": 12,
   "metadata": {},
   "outputs": [],
   "source": [
    "def get_accuracy(model):\n",
    "    # before training accuracy on validation set\n",
    "    score = model.evaluate(X_test, y_test, verbose=0)[1]\n",
    "    percent = round(score * 100, 2)\n",
    "    ratio = round(len(X_test) * score)\n",
    "\n",
    "    print(f'Validation accuracy: {percent}% ({ratio}/{len(X_test)})')\n",
    "\n",
    "\n",
    "def define_architecture():\n",
    "    model = Sequential()\n",
    "    \n",
    "    # Three convoultional layes; maxpooling to make a downsampled feature map\n",
    "    model.add(Conv2D(filters=16, kernel_size=2, padding='same', activation='relu', \n",
    "                            input_shape=(28, 28, 1)))\n",
    "    model.add(MaxPooling2D(pool_size=2))\n",
    "    model.add(Conv2D(filters=32, kernel_size=2, padding='same', activation='relu'))\n",
    "    model.add(MaxPooling2D(pool_size=2))\n",
    "    model.add(Conv2D(filters=64, kernel_size=2, padding='same', activation='relu'))\n",
    "    model.add(MaxPooling2D(pool_size=2))\n",
    "    model.add(Dropout(0.3))\n",
    "    model.add(Flatten())\n",
    "    model.add(Dense(500, activation='relu'))\n",
    "        \n",
    "    model.add(Dropout(0.4))\n",
    "    model.add(Dense(10, activation='softmax'))\n",
    "\n",
    "    model.summary()    \n",
    "    return model\n",
    "\n",
    "\n",
    "def train(model, bs=128, epochs=20, valid_split=0.2,\n",
    "          checkpoint='fashion_mnist.hdf5', verbose=True):\n",
    "\n",
    "    # compile the model\n",
    "    model.compile(loss='categorical_crossentropy', optimizer='rmsprop', \n",
    "                      metrics=['accuracy'])\n",
    "    \n",
    "    print('\\n\\nAccuracy before training')\n",
    "    get_accuracy(model)\n",
    "    \n",
    "    checkpointer = ModelCheckpoint(filepath=checkpoint, \n",
    "                                   verbose=1, save_best_only=True)\n",
    "    \n",
    "    model.fit(X_train, y_train, batch_size=bs, epochs=epochs,\n",
    "              validation_split=valid_split, callbacks=[checkpointer],\n",
    "              verbose=verbose, shuffle=True)\n",
    "    "
   ]
  },
  {
   "cell_type": "code",
   "execution_count": 3,
   "metadata": {},
   "outputs": [],
   "source": [
    "def viz_sample(X, y, model=None):\n",
    "    num_gen = lambda x: np.random.randint(0, len(X))\n",
    "    \n",
    "    if not model:\n",
    "        fig, ax = plt.subplots(1, 5, figsize=(10, 7))\n",
    "\n",
    "        for idx in range(5):\n",
    "            N = num_gen(1)\n",
    "            ax[idx].imshow(X[N], cmap='gray')\n",
    "            ax[idx].set_title(labels[y[N]], fontsize=14)\n",
    "            \n",
    "    else:\n",
    "        # show predictions\n",
    "        fig = plt.figure(figsize=(20, 8))\n",
    "        fig.suptitle('True/Predicted values', fontsize=18)\n",
    "        \n",
    "        for i, idx in enumerate(np.random.choice(X_test.shape[0], size=16, replace=False)):\n",
    "            ax = fig.add_subplot(4, 8, i + 1, xticks=[], yticks=[])\n",
    "            ax.imshow(np.squeeze(X_test[idx]), cmap='gray')\n",
    "            pred_idx = np.argmax(y_hat[idx])\n",
    "            true_idx = np.argmax(y_test[idx])\n",
    "            ax.set_title(\"{} ({})\".format(labels[pred_idx], labels[true_idx]),\n",
    "                         color=(\"green\" if pred_idx == true_idx else \"red\"))\n",
    "\n",
    "    plt.show()\n"
   ]
  },
  {
   "cell_type": "markdown",
   "metadata": {},
   "source": [
    "# Preparing the data\n",
    "\n",
    "Below are the steps taken to get the data ready and to check it out. First we load up the data and split into testing and training groups, then we must set our labels, which will be our output. Then we check on the data with viz_sample.\n",
    "And at last we get to our preprocessing phase where we rescale the data so that the inputs will be between 0 - 1 and using one hot encoding for our outputs."
   ]
  },
  {
   "cell_type": "markdown",
   "metadata": {},
   "source": [
    "### Load and split\n",
    "\n",
    "First, we need to get the data that we are going to work with. Here, I am using Fashion MNIST dataset since it's a little bit more difficult that MNIST, so that it gives enough challenge and is doable at the same time. One alteration I'm going to introduce is the validation split addition; it's important to know how the data does in the training stage. And we will hold out the test set for the very end and not touch it until then. "
   ]
  },
  {
   "cell_type": "code",
   "execution_count": 4,
   "metadata": {},
   "outputs": [
    {
     "name": "stdout",
     "output_type": "stream",
     "text": [
      "Train dataset consists of 60000 instances\n",
      "Test dataset consists of 10000 instances\n"
     ]
    }
   ],
   "source": [
    "# load data\n",
    "(X_train, y_train), (X_test, y_test) = fashion_mnist.load_data()\n",
    "\n",
    "print(f'Train dataset consists of {len(X_train)} instances')\n",
    "print(f'Test dataset consists of {len(X_test)} instances')"
   ]
  },
  {
   "cell_type": "markdown",
   "metadata": {},
   "source": [
    "### Prepare the labes and Visualize \n",
    "Here I have listed the labels that the model will be using. Below there is a quick look at a sample of the training data to make sure everything is so far working ( not a given when I code! )"
   ]
  },
  {
   "cell_type": "code",
   "execution_count": 5,
   "metadata": {},
   "outputs": [],
   "source": [
    "# get the corresponsing labels \n",
    "\n",
    "labels = {\n",
    "    0: 'T-shirt/top',\n",
    "    1: 'Trouser',\n",
    "    2: 'Pullover',\n",
    "    3: 'Dress',\n",
    "    4: 'Coat',\n",
    "    5: 'Sandal',\n",
    "    6: 'Shirt',\n",
    "    7: 'Sneaker',\n",
    "    8: 'Bag',\n",
    "    9: 'Ankle boot'\n",
    "}"
   ]
  },
  {
   "cell_type": "code",
   "execution_count": 6,
   "metadata": {},
   "outputs": [
    {
     "data": {
      "image/png": "[encoded data removed]",
      "text/plain": [
       "<Figure size 720x504 with 5 Axes>"
      ]
     },
     "metadata": {
      "needs_background": "light"
     },
     "output_type": "display_data"
    }
   ],
   "source": [
    "viz_sample(X_train, y_train)"
   ]
  },
  {
   "cell_type": "markdown",
   "metadata": {},
   "source": [
    "### Preprocessing\n",
    "\n",
    "The input values the model expects should be between 0 and 1, how ever since the data we are dealing with comes from images, we need to scale it back. The pixel data comes in values from 0 - 255, so we assign the type to a 32 bit float and divde it by 255 in order to have it in the expected values. Then we assign it to out training and testing variables."
   ]
  },
  {
   "cell_type": "code",
   "execution_count": 7,
   "metadata": {},
   "outputs": [],
   "source": [
    "# rescale images (!)\n",
    "rescale = lambda x: x.astype('float32') / 255.0\n",
    "\n",
    "X_train = rescale(X_train)\n",
    "X_test = rescale(X_test)"
   ]
  },
  {
   "cell_type": "markdown",
   "metadata": {},
   "source": [
    "### One hot encoding\n",
    "As I'm sure you are aware, one hot encoding is where we have an array full of zero's where only the correct choice is given as one. Here we have made sure that the training and testing data have been converted to one hot encoding."
   ]
  },
  {
   "cell_type": "code",
   "execution_count": 8,
   "metadata": {},
   "outputs": [
    {
     "name": "stdout",
     "output_type": "stream",
     "text": [
      "Before One-Hot encoding:\n",
      "[9 0 0 3 0]\n",
      "\n",
      "After One-Hot encoding:\n",
      "[[0. 0. 0. 0. 0. 0. 0. 0. 0. 1.]\n",
      " [1. 0. 0. 0. 0. 0. 0. 0. 0. 0.]\n",
      " [1. 0. 0. 0. 0. 0. 0. 0. 0. 0.]\n",
      " [0. 0. 0. 1. 0. 0. 0. 0. 0. 0.]\n",
      " [1. 0. 0. 0. 0. 0. 0. 0. 0. 0.]]\n"
     ]
    }
   ],
   "source": [
    "# use one-hot encoding for categorical outputs\n",
    "onehot = lambda y: np_utils.to_categorical(y, 10)\n",
    "\n",
    "print('Before One-Hot encoding:')\n",
    "print(y_train[:5])\n",
    "\n",
    "y_train = onehot(y_train)\n",
    "y_test = onehot(y_test)\n",
    "\n",
    "print('\\nAfter One-Hot encoding:')\n",
    "print(y_train[:5])"
   ]
  },
  {
   "cell_type": "markdown",
   "metadata": {},
   "source": [
    "# Actually training the model\n",
    "Now that we have set up our data, out outputs and our model it is time to train it. Below the 'cnn_model' is going to be our training model ( cnn = Convolutional Neural Network )"
   ]
  },
  {
   "cell_type": "markdown",
   "metadata": {},
   "source": [
    "### Model architecture\n",
    "\n",
    "As you can see ( You will have to scroll just a bit ) the accuracy before training is only 9.98% ) So we have our baseline. After running though, how good can we get? I hope it is good, I need a hoody!"
   ]
  },
  {
   "cell_type": "code",
   "execution_count": 9,
   "metadata": {},
   "outputs": [
    {
     "name": "stdout",
     "output_type": "stream",
     "text": [
      "Model: \"sequential\"\n",
      "_________________________________________________________________\n",
      " Layer (type)                Output Shape              Param #   \n",
      "=================================================================\n",
      " conv2d (Conv2D)             (None, 28, 28, 16)        80        \n",
      "                                                                 \n",
      " max_pooling2d (MaxPooling2D  (None, 14, 14, 16)       0         \n",
      " )                                                               \n",
      "                                                                 \n",
      " conv2d_1 (Conv2D)           (None, 14, 14, 32)        2080      \n",
      "                                                                 \n",
      " max_pooling2d_1 (MaxPooling  (None, 7, 7, 32)         0         \n",
      " 2D)                                                             \n",
      "                                                                 \n",
      " conv2d_2 (Conv2D)           (None, 7, 7, 64)          8256      \n",
      "                                                                 \n",
      " max_pooling2d_2 (MaxPooling  (None, 3, 3, 64)         0         \n",
      " 2D)                                                             \n",
      "                                                                 \n",
      " dropout (Dropout)           (None, 3, 3, 64)          0         \n",
      "                                                                 \n",
      " flatten (Flatten)           (None, 576)               0         \n",
      "                                                                 \n",
      " dense (Dense)               (None, 500)               288500    \n",
      "                                                                 \n",
      " dropout_1 (Dropout)         (None, 500)               0         \n",
      "                                                                 \n",
      " dense_1 (Dense)             (None, 10)                5010      \n",
      "                                                                 \n",
      "=================================================================\n",
      "Total params: 303,926\n",
      "Trainable params: 303,926\n",
      "Non-trainable params: 0\n",
      "_________________________________________________________________\n"
     ]
    },
    {
     "name": "stderr",
     "output_type": "stream",
     "text": [
      "2022-03-11 10:19:55.772203: I tensorflow/stream_executor/cuda/cuda_gpu_executor.cc:936] successful NUMA node read from SysFS had negative value (-1), but there must be at least one NUMA node, so returning NUMA node zero\n",
      "2022-03-11 10:19:55.772881: W tensorflow/stream_executor/platform/default/dso_loader.cc:64] Could not load dynamic library 'libcudart.so.11.0'; dlerror: libcudart.so.11.0: cannot open shared object file: No such file or directory\n",
      "2022-03-11 10:19:55.773069: W tensorflow/stream_executor/platform/default/dso_loader.cc:64] Could not load dynamic library 'libcublas.so.11'; dlerror: libcublas.so.11: cannot open shared object file: No such file or directory\n",
      "2022-03-11 10:19:55.773221: W tensorflow/stream_executor/platform/default/dso_loader.cc:64] Could not load dynamic library 'libcublasLt.so.11'; dlerror: libcublasLt.so.11: cannot open shared object file: No such file or directory\n",
      "2022-03-11 10:19:55.773376: W tensorflow/stream_executor/platform/default/dso_loader.cc:64] Could not load dynamic library 'libcufft.so.10'; dlerror: libcufft.so.10: cannot open shared object file: No such file or directory\n",
      "2022-03-11 10:19:55.773528: W tensorflow/stream_executor/platform/default/dso_loader.cc:64] Could not load dynamic library 'libcurand.so.10'; dlerror: libcurand.so.10: cannot open shared object file: No such file or directory\n",
      "2022-03-11 10:19:55.773671: W tensorflow/stream_executor/platform/default/dso_loader.cc:64] Could not load dynamic library 'libcusolver.so.11'; dlerror: libcusolver.so.11: cannot open shared object file: No such file or directory\n",
      "2022-03-11 10:19:55.773812: W tensorflow/stream_executor/platform/default/dso_loader.cc:64] Could not load dynamic library 'libcusparse.so.11'; dlerror: libcusparse.so.11: cannot open shared object file: No such file or directory\n",
      "2022-03-11 10:19:55.773954: W tensorflow/stream_executor/platform/default/dso_loader.cc:64] Could not load dynamic library 'libcudnn.so.8'; dlerror: libcudnn.so.8: cannot open shared object file: No such file or directory\n",
      "2022-03-11 10:19:55.773977: W tensorflow/core/common_runtime/gpu/gpu_device.cc:1850] Cannot dlopen some GPU libraries. Please make sure the missing libraries mentioned above are installed properly if you would like to use GPU. Follow the guide at https://www.tensorflow.org/install/gpu for how to download and setup the required libraries for your platform.\n",
      "Skipping registering GPU devices...\n",
      "2022-03-11 10:19:55.775138: I tensorflow/core/platform/cpu_feature_guard.cc:151] This TensorFlow binary is optimized with oneAPI Deep Neural Network Library (oneDNN) to use the following CPU instructions in performance-critical operations:  AVX2 FMA\n",
      "To enable them in other operations, rebuild TensorFlow with the appropriate compiler flags.\n"
     ]
    },
    {
     "name": "stdout",
     "output_type": "stream",
     "text": [
      "\n",
      "\n",
      "Accuracy before training\n",
      "Validation accuracy: 9.98% (5988/10000)\n",
      "Epoch 1/25\n"
     ]
    },
    {
     "name": "stderr",
     "output_type": "stream",
     "text": [
      "2022-03-11 10:19:56.786006: W tensorflow/core/framework/cpu_allocator_impl.cc:82] Allocation of 150528000 exceeds 10% of free system memory.\n"
     ]
    },
    {
     "name": "stdout",
     "output_type": "stream",
     "text": [
      "373/375 [============================>.] - ETA: 0s - loss: 0.6962 - accuracy: 0.7397\n",
      "Epoch 1: val_loss improved from inf to 0.44457, saving model to fashion_mnist.hdf5\n",
      "375/375 [==============================] - 9s 24ms/step - loss: 0.6950 - accuracy: 0.7402 - val_loss: 0.4446 - val_accuracy: 0.8413\n",
      "Epoch 2/25\n",
      "373/375 [============================>.] - ETA: 0s - loss: 0.4479 - accuracy: 0.8369\n",
      "Epoch 2: val_loss improved from 0.44457 to 0.36310, saving model to fashion_mnist.hdf5\n",
      "375/375 [==============================] - 9s 23ms/step - loss: 0.4478 - accuracy: 0.8369 - val_loss: 0.3631 - val_accuracy: 0.8683\n",
      "Epoch 3/25\n",
      "375/375 [==============================] - ETA: 0s - loss: 0.3868 - accuracy: 0.8583\n",
      "Epoch 3: val_loss improved from 0.36310 to 0.32216, saving model to fashion_mnist.hdf5\n",
      "375/375 [==============================] - 9s 23ms/step - loss: 0.3868 - accuracy: 0.8583 - val_loss: 0.3222 - val_accuracy: 0.8821\n",
      "Epoch 4/25\n",
      "373/375 [============================>.] - ETA: 0s - loss: 0.3510 - accuracy: 0.8709\n",
      "Epoch 4: val_loss improved from 0.32216 to 0.31408, saving model to fashion_mnist.hdf5\n",
      "375/375 [==============================] - 9s 23ms/step - loss: 0.3511 - accuracy: 0.8708 - val_loss: 0.3141 - val_accuracy: 0.8819\n",
      "Epoch 5/25\n",
      "374/375 [============================>.] - ETA: 0s - loss: 0.3246 - accuracy: 0.8802\n",
      "Epoch 5: val_loss improved from 0.31408 to 0.31224, saving model to fashion_mnist.hdf5\n",
      "375/375 [==============================] - 9s 23ms/step - loss: 0.3247 - accuracy: 0.8801 - val_loss: 0.3122 - val_accuracy: 0.8856\n",
      "Epoch 6/25\n",
      "375/375 [==============================] - ETA: 0s - loss: 0.3116 - accuracy: 0.8852\n",
      "Epoch 6: val_loss improved from 0.31224 to 0.28654, saving model to fashion_mnist.hdf5\n",
      "375/375 [==============================] - 9s 23ms/step - loss: 0.3116 - accuracy: 0.8852 - val_loss: 0.2865 - val_accuracy: 0.8928\n",
      "Epoch 7/25\n",
      "374/375 [============================>.] - ETA: 0s - loss: 0.2983 - accuracy: 0.8895\n",
      "Epoch 7: val_loss improved from 0.28654 to 0.27268, saving model to fashion_mnist.hdf5\n",
      "375/375 [==============================] - 9s 24ms/step - loss: 0.2982 - accuracy: 0.8895 - val_loss: 0.2727 - val_accuracy: 0.8995\n",
      "Epoch 8/25\n",
      "374/375 [============================>.] - ETA: 0s - loss: 0.2869 - accuracy: 0.8942\n",
      "Epoch 8: val_loss did not improve from 0.27268\n",
      "375/375 [==============================] - 10s 26ms/step - loss: 0.2868 - accuracy: 0.8942 - val_loss: 0.2744 - val_accuracy: 0.8982\n",
      "Epoch 9/25\n",
      "375/375 [==============================] - ETA: 0s - loss: 0.2781 - accuracy: 0.8988\n",
      "Epoch 9: val_loss improved from 0.27268 to 0.25747, saving model to fashion_mnist.hdf5\n",
      "375/375 [==============================] - 10s 28ms/step - loss: 0.2781 - accuracy: 0.8988 - val_loss: 0.2575 - val_accuracy: 0.9045\n",
      "Epoch 10/25\n",
      "374/375 [============================>.] - ETA: 0s - loss: 0.2690 - accuracy: 0.9010\n",
      "Epoch 10: val_loss did not improve from 0.25747\n",
      "375/375 [==============================] - 10s 27ms/step - loss: 0.2691 - accuracy: 0.9010 - val_loss: 0.2993 - val_accuracy: 0.8903\n",
      "Epoch 11/25\n",
      "375/375 [==============================] - ETA: 0s - loss: 0.2630 - accuracy: 0.9043\n",
      "Epoch 11: val_loss improved from 0.25747 to 0.25247, saving model to fashion_mnist.hdf5\n",
      "375/375 [==============================] - 10s 27ms/step - loss: 0.2630 - accuracy: 0.9043 - val_loss: 0.2525 - val_accuracy: 0.9056\n",
      "Epoch 12/25\n",
      "375/375 [==============================] - ETA: 0s - loss: 0.2577 - accuracy: 0.9054\n",
      "Epoch 12: val_loss improved from 0.25247 to 0.25074, saving model to fashion_mnist.hdf5\n",
      "375/375 [==============================] - 10s 28ms/step - loss: 0.2577 - accuracy: 0.9054 - val_loss: 0.2507 - val_accuracy: 0.9070\n",
      "Epoch 13/25\n",
      "374/375 [============================>.] - ETA: 0s - loss: 0.2513 - accuracy: 0.9065\n",
      "Epoch 13: val_loss did not improve from 0.25074\n",
      "375/375 [==============================] - 10s 27ms/step - loss: 0.2511 - accuracy: 0.9066 - val_loss: 0.2618 - val_accuracy: 0.9073\n",
      "Epoch 14/25\n",
      "374/375 [============================>.] - ETA: 0s - loss: 0.2489 - accuracy: 0.9095\n",
      "Epoch 14: val_loss improved from 0.25074 to 0.24205, saving model to fashion_mnist.hdf5\n",
      "375/375 [==============================] - 10s 28ms/step - loss: 0.2488 - accuracy: 0.9096 - val_loss: 0.2421 - val_accuracy: 0.9112\n",
      "Epoch 15/25\n",
      "374/375 [============================>.] - ETA: 0s - loss: 0.2434 - accuracy: 0.9105\n",
      "Epoch 15: val_loss did not improve from 0.24205\n",
      "375/375 [==============================] - 11s 28ms/step - loss: 0.2439 - accuracy: 0.9105 - val_loss: 0.2506 - val_accuracy: 0.9091\n",
      "Epoch 16/25\n",
      "375/375 [==============================] - ETA: 0s - loss: 0.2372 - accuracy: 0.9130\n",
      "Epoch 16: val_loss did not improve from 0.24205\n",
      "375/375 [==============================] - 11s 28ms/step - loss: 0.2372 - accuracy: 0.9130 - val_loss: 0.2437 - val_accuracy: 0.9118\n",
      "Epoch 17/25\n",
      "375/375 [==============================] - ETA: 0s - loss: 0.2344 - accuracy: 0.9154\n",
      "Epoch 17: val_loss improved from 0.24205 to 0.23575, saving model to fashion_mnist.hdf5\n",
      "375/375 [==============================] - 11s 28ms/step - loss: 0.2344 - accuracy: 0.9154 - val_loss: 0.2357 - val_accuracy: 0.9165\n",
      "Epoch 18/25\n",
      "375/375 [==============================] - ETA: 0s - loss: 0.2312 - accuracy: 0.9164\n",
      "Epoch 18: val_loss did not improve from 0.23575\n",
      "375/375 [==============================] - 10s 27ms/step - loss: 0.2312 - accuracy: 0.9164 - val_loss: 0.2545 - val_accuracy: 0.9118\n",
      "Epoch 19/25\n",
      "375/375 [==============================] - ETA: 0s - loss: 0.2303 - accuracy: 0.9181\n",
      "Epoch 19: val_loss did not improve from 0.23575\n",
      "375/375 [==============================] - 10s 28ms/step - loss: 0.2303 - accuracy: 0.9181 - val_loss: 0.2443 - val_accuracy: 0.9108\n",
      "Epoch 20/25\n",
      "375/375 [==============================] - ETA: 0s - loss: 0.2272 - accuracy: 0.9178\n",
      "Epoch 20: val_loss did not improve from 0.23575\n",
      "375/375 [==============================] - 10s 27ms/step - loss: 0.2272 - accuracy: 0.9178 - val_loss: 0.2432 - val_accuracy: 0.9115\n",
      "Epoch 21/25\n",
      "375/375 [==============================] - ETA: 0s - loss: 0.2215 - accuracy: 0.9190\n",
      "Epoch 21: val_loss did not improve from 0.23575\n",
      "375/375 [==============================] - 10s 27ms/step - loss: 0.2215 - accuracy: 0.9190 - val_loss: 0.2402 - val_accuracy: 0.9167\n",
      "Epoch 22/25\n",
      "375/375 [==============================] - ETA: 0s - loss: 0.2265 - accuracy: 0.9183\n",
      "Epoch 22: val_loss did not improve from 0.23575\n",
      "375/375 [==============================] - 10s 27ms/step - loss: 0.2265 - accuracy: 0.9183 - val_loss: 0.2397 - val_accuracy: 0.9140\n",
      "Epoch 23/25\n",
      "374/375 [============================>.] - ETA: 0s - loss: 0.2209 - accuracy: 0.9214\n",
      "Epoch 23: val_loss did not improve from 0.23575\n",
      "375/375 [==============================] - 10s 27ms/step - loss: 0.2208 - accuracy: 0.9214 - val_loss: 0.2594 - val_accuracy: 0.9054\n",
      "Epoch 24/25\n",
      "374/375 [============================>.] - ETA: 0s - loss: 0.2202 - accuracy: 0.9207\n",
      "Epoch 24: val_loss improved from 0.23575 to 0.23482, saving model to fashion_mnist.hdf5\n",
      "375/375 [==============================] - 10s 27ms/step - loss: 0.2201 - accuracy: 0.9207 - val_loss: 0.2348 - val_accuracy: 0.9147\n",
      "Epoch 25/25\n",
      "374/375 [============================>.] - ETA: 0s - loss: 0.2161 - accuracy: 0.9220\n",
      "Epoch 25: val_loss improved from 0.23482 to 0.23097, saving model to fashion_mnist.hdf5\n",
      "375/375 [==============================] - 10s 27ms/step - loss: 0.2162 - accuracy: 0.9220 - val_loss: 0.2310 - val_accuracy: 0.9145\n"
     ]
    }
   ],
   "source": [
    "# CNN\n",
    "cnn_model = define_architecture()\n",
    "train(cnn_model, epochs=25)"
   ]
  },
  {
   "cell_type": "markdown",
   "metadata": {},
   "source": [
    "# Results"
   ]
  },
  {
   "cell_type": "code",
   "execution_count": 13,
   "metadata": {},
   "outputs": [
    {
     "name": "stdout",
     "output_type": "stream",
     "text": [
      "Final output:\n",
      "Validation accuracy: 91.15% (9115/10000)\n"
     ]
    }
   ],
   "source": [
    "print('Final output:')\n",
    "get_accuracy(cnn_model)"
   ]
  },
  {
   "cell_type": "markdown",
   "metadata": {},
   "source": [
    "### 91.15%\n",
    "\n",
    "Wow, not bad. It isn't the best around, but we started from just a bit under 10% to over 90%! Now I can confidnetly go into my wordrobe and be assured I have a less than 10% chance of wearing my pants on my head!"
   ]
  },
  {
   "cell_type": "markdown",
   "metadata": {},
   "source": [
    "# Conclusions\n",
    "\n",
    "Well we went from a randoom baseline of just inder 10% to an accuracry rating of over 91%. I'd say this was a farily succesful attempt. But it is still not as high as some models can get, so perhaps some other tweaks could have been made.\n",
    "### Possible changes for improvement\n",
    "One thing that comes to mind is we only ran for 25 epochs, so perhaps given more time we would do better. If possible I would also like to have more training data to access to see if that would make any differnce, but I have limited myself to the mnist training set due to the constraints of my time.\n",
    "\n",
    "### I can find pants\n",
    "Now at least we know that our future robot overloads will be well dressed! What did you think? What would you do differently? "
   ]
  }
 ],
 "metadata": {
  "kernelspec": {
   "display_name": "Python 3",
   "language": "python",
   "name": "python3"
  },
  "language_info": {
   "codemirror_mode": {
    "name": "ipython",
    "version": 3
   },
   "file_extension": ".py",
   "mimetype": "text/x-python",
   "name": "python",
   "nbconvert_exporter": "python",
   "pygments_lexer": "ipython3",
   "version": "3.6.13"
  }
 },
 "nbformat": 4,
 "nbformat_minor": 1
}
